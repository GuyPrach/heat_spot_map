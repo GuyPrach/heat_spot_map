{
  "cells": [
    {
      "cell_type": "markdown",
      "metadata": {
        "id": "QEBnwblmXmst"
      },
      "source": [
        "---\n",
        "\n",
        "## Test Your MAP_KEY\n",
        "\n",
        "---"
      ]
    },
    {
      "cell_type": "code",
      "execution_count": null,
      "metadata": {
        "colab": {
          "base_uri": "https://localhost:8080/",
          "height": 178
        },
        "id": "3UUoZmk18RlS",
        "outputId": "b89262d0-967d-488a-f35a-239c50d18ded"
      },
      "outputs": [],
      "source": [
        "MAP_KEY = '5e8bad8d50fa1ca84ea72175e2bace34'# change this key to user key\n",
        "\n",
        "# check how many transactions we have\n",
        "import pandas as pd\n",
        "url = 'https://firms.modaps.eosdis.nasa.gov/mapserver/mapkey_status/?MAP_KEY=' + MAP_KEY\n",
        "try:\n",
        "  df = pd.read_json(url,  typ='series')\n",
        "  display(df)\n",
        "except:\n",
        "  # possible error, wrong MAP_KEY value, check for extra quotes, missing letters\n",
        "  print (\"There is an issue with the query. \\nTry in your browser: %s\" % url)\n"
      ]
    },
    {
      "cell_type": "code",
      "execution_count": null,
      "metadata": {
        "colab": {
          "base_uri": "https://localhost:8080/"
        },
        "id": "JH9UI_Z3cDpc",
        "outputId": "aff99ab8-ab97-48a2-e9bd-c94a26847ca0"
      },
      "outputs": [],
      "source": [
        "# let's create a simple function that tells us how many transactions we have used.\n",
        "# We will use this in later examples\n",
        "\n",
        "def get_transaction_count() :\n",
        "  count = 0\n",
        "  try:\n",
        "    df = pd.read_json(url,  typ='series')\n",
        "    count = df['current_transactions']\n",
        "  except:\n",
        "    print (\"Error in our call.\")\n",
        "  return count\n",
        "\n",
        "tcount = get_transaction_count()\n",
        "print ('Our current transaction count is %i' % tcount)"
      ]
    },
    {
      "cell_type": "markdown",
      "metadata": {
        "id": "S473HzWhY_mg"
      },
      "source": [
        "---\n",
        "\n",
        "## API/data_availability\n",
        "\n",
        "---"
      ]
    },
    {
      "cell_type": "code",
      "execution_count": null,
      "metadata": {
        "colab": {
          "base_uri": "https://localhost:8080/",
          "height": 363
        },
        "id": "Fj_3KPJfXxLU",
        "outputId": "04cc3051-c57f-4775-c65d-3985743816e9"
      },
      "outputs": [],
      "source": [
        "da_url = 'https://firms.modaps.eosdis.nasa.gov/api/data_availability/csv/' + MAP_KEY + '/all'\n",
        "df = pd.read_csv(da_url)\n",
        "display(df)"
      ]
    },
    {
      "cell_type": "markdown",
      "metadata": {
        "id": "SDKbxuqPeURG"
      },
      "source": [
        "**data_id** column shows the dataset id which we will need in later queries:\n",
        "- 'NRT' means this is Near Real-Time dataset but it may also includes Real Time (RT) and Ultra Real Time (URT) data [click here more info on URT/RT](https://www.earthdata.nasa.gov/data/tools/firms/faq)\n",
        "- 'SP' or Standard Processing; standard data products are an internally consistent, well-calibrated record of the Earth’s geophysical properties to support science. There is a multi-month lag in this dataset availability. [more information on SP vs NRT](https://www.earthdata.nasa.gov/data/tools/firms/faq)\n",
        "- BA_MODIS is for MODIS burned areas product\n",
        "\n",
        "**min_date** and **max_date** columns provide the available date range for these datasets. Dates are based on GMT"
      ]
    },
    {
      "cell_type": "code",
      "execution_count": 4,
      "metadata": {
        "colab": {
          "base_uri": "https://localhost:8080/"
        },
        "id": "J0LeqdtJgqRi",
        "outputId": "08ccb596-cd83-4bb5-ea6d-7e3ee742bd64"
      },
      "outputs": [
        {
          "name": "stdout",
          "output_type": "stream",
          "text": [
            "We used 5 transactions.\n"
          ]
        }
      ],
      "source": [
        "# now let's see how many transactions we use by querying this end point\n",
        "\n",
        "start_count = get_transaction_count()\n",
        "pd.read_csv(da_url)\n",
        "end_count = get_transaction_count()\n",
        "print ('We used %i transactions.' % (end_count-start_count))\n",
        "\n",
        "# now remember, after 10 minutes this will reset"
      ]
    },
    {
      "cell_type": "markdown",
      "metadata": {
        "id": "dTRmdDKPhOm-"
      },
      "source": [
        "---\n",
        "\n",
        "## API/area\n",
        "\n",
        "---"
      ]
    },
    {
      "cell_type": "markdown",
      "metadata": {
        "id": "z1DE27KIeBZu"
      },
      "source": [
        "Fire detection hotspots based on area, date and sensor. For more information visit https://firms.modaps.eosdis.nasa.gov/api/area\n",
        "\n",
        "The end point expects these parameters: [MAP_KEY], [SOURCE], [AREA_COORDINATES],[DAY_RANGE] and optionally [DATE] for historical data\n",
        "\n",
        "**NOTE** - querying the entire world for VIIRS can return between 30,000 - 100,000+ records per day\n"
      ]
    },
    {
      "cell_type": "code",
      "execution_count": null,
      "metadata": {
        "colab": {
          "base_uri": "https://localhost:8080/",
          "height": 441
        },
        "id": "G0ydXGJFily9",
        "outputId": "30306c08-17ce-4f5b-c792-e8b0de1b5cb0"
      },
      "outputs": [],
      "source": [
        "# in this example let's look at VIIRS NOAA-20, entire world and the most recent day\n",
        "area_url = 'https://firms.modaps.eosdis.nasa.gov/api/area/csv/' + MAP_KEY + '/VIIRS_NOAA20_NRT/world/1'\n",
        "start_count = get_transaction_count()\n",
        "df_area = pd.read_csv(area_url)\n",
        "end_count = get_transaction_count()\n",
        "print ('We used %i transactions.' % (end_count-start_count))\n",
        "\n",
        "df_area"
      ]
    },
    {
      "cell_type": "code",
      "execution_count": null,
      "metadata": {
        "colab": {
          "base_uri": "https://localhost:8080/",
          "height": 424
        },
        "id": "fEyYmve6lCN1",
        "outputId": "7b11e8f2-ea66-4dcd-9ffb-22e44b5b07ce"
      },
      "outputs": [],
      "source": [
        "# We can also focus on a smaller area ex. South Asia and get the last 3 days of records\n",
        "area_url = 'https://firms.modaps.eosdis.nasa.gov/api/area/csv/' + MAP_KEY + '/VIIRS_NOAA20_NRT/54,5.5,102,40/3'\n",
        "df_area = pd.read_csv(area_url)\n",
        "df_area"
      ]
    },
    {
      "cell_type": "markdown",
      "metadata": {
        "id": "4NX88KHWnCcV"
      },
      "source": [
        "List of supported countries and their 3-letter codes. This may be easier to read in html format https://firms.modaps.eosdis.nasa.gov/api/countries/?format=html however, you won't be able to see the exent box defined for each country.\n",
        "\n",
        "Example below shows how you can view from Python."
      ]
    },
    {
      "cell_type": "code",
      "execution_count": null,
      "metadata": {
        "colab": {
          "base_uri": "https://localhost:8080/",
          "height": 424
        },
        "id": "dblSXfJ0mh8m",
        "outputId": "44460b14-f98d-4e44-ee16-3d0c2d0fd581"
      },
      "outputs": [],
      "source": [
        "# We can also focus on smaller area ex. South Asia and get last 3 days of records\n",
        "countries_url = 'https://firms.modaps.eosdis.nasa.gov/api/countries'\n",
        "df_countries = pd.read_csv(countries_url, sep=';')\n",
        "df_countries"
      ]
    },
    {
      "cell_type": "markdown",
      "metadata": {
        "id": "q51QbuPrnk2O"
      },
      "source": [
        "---\n",
        "\n",
        "## API/country\n",
        "\n",
        "---"
      ]
    },
    {
      "cell_type": "code",
      "execution_count": null,
      "metadata": {
        "colab": {
          "base_uri": "https://localhost:8080/",
          "height": 424
        },
        "id": "HbNTho_ooi8S",
        "outputId": "49aec9b1-3fa2-4d79-cf43-be0a433b1bf3"
      },
      "outputs": [],
      "source": [
        "# Let's see last four days MODIS data for Thailand\n",
        "thai_url = 'https://firms.modaps.eosdis.nasa.gov/api/country/csv/' + MAP_KEY + '/MODIS_NRT/THA/5'\n",
        "df_thai = pd.read_csv(thai_url)\n",
        "df_thai"
      ]
    },
    {
      "cell_type": "markdown",
      "metadata": {
        "id": "k5XK8YGDki4B"
      },
      "source": [
        "## Change data format \"acq_time\""
      ]
    },
    {
      "cell_type": "code",
      "execution_count": null,
      "metadata": {
        "colab": {
          "base_uri": "https://localhost:8080/"
        },
        "id": "xq3TLFf_e55r",
        "outputId": "c8375984-82a1-4472-a22d-fb25218e350a"
      },
      "outputs": [],
      "source": [
        "import datetime\n",
        "\n",
        "# Ensure \"acq_time\" is a string, then pad with zeros\n",
        "df_thai[\"acq_time\"] = df_thai[\"acq_time\"].astype(str).str.zfill(4)\n",
        "\n",
        "# Convert to HH:MM format\n",
        "df_thai[\"acq_time\"] = pd.to_datetime(df_thai[\"acq_time\"], format=\"%H%M\").dt.time\n",
        "# df_thai[\"acq_time\"] = df_thai[\"acq_time\"].apply(lambda x: datetime.datetime.strptime(x, \"%H:%M:%S\").time())\n",
        "\n",
        "# Check the result\n",
        "print(df_thai.dtypes)\n",
        "print(df_thai[\"acq_time\"].head())  # Display first few converted times"
      ]
    },
    {
      "cell_type": "code",
      "execution_count": null,
      "metadata": {
        "colab": {
          "base_uri": "https://localhost:8080/"
        },
        "id": "TfpKjHQXkQ_d",
        "outputId": "ce920c4f-e93a-4318-84d7-459ca603e87d"
      },
      "outputs": [],
      "source": [
        "unique_values = df_thai[\"acq_time\"].unique()\n",
        "print(unique_values)"
      ]
    },
    {
      "cell_type": "code",
      "execution_count": null,
      "metadata": {
        "colab": {
          "base_uri": "https://localhost:8080/",
          "height": 424
        },
        "id": "RPqzQIdnj1h0",
        "outputId": "6d0082bf-d6b8-4cc6-b315-0533581da08d"
      },
      "outputs": [],
      "source": [
        "df_thai.head(100)"
      ]
    },
    {
      "cell_type": "markdown",
      "metadata": {
        "id": "zVubWCKvn700"
      },
      "source": [
        "## Hive partition"
      ]
    },
    {
      "cell_type": "code",
      "execution_count": 12,
      "metadata": {
        "id": "mNcKbkqZrHSk"
      },
      "outputs": [],
      "source": [
        "import numpy as np\n",
        "import pandas as pd\n",
        "import pyarrow"
      ]
    },
    {
      "cell_type": "code",
      "execution_count": 13,
      "metadata": {
        "id": "SkVfw72Tn7OM"
      },
      "outputs": [],
      "source": [
        "# Extract components from the \"acq_date\" and \"acq_time\" columns\n",
        "df_thai[\"acq_year\"] = pd.to_datetime(df_thai[\"acq_date\"]).dt.year\n",
        "df_thai[\"acq_month\"] = pd.to_datetime(df_thai[\"acq_date\"]).dt.month\n",
        "df_thai[\"acq_day\"] = pd.to_datetime(df_thai[\"acq_date\"]).dt.day\n",
        "df_thai[\"acq_hour\"] = df_thai[\"acq_time\"].apply(lambda x: x.hour)\n",
        "df_thai[\"acq_minute\"] = df_thai[\"acq_time\"].apply(lambda x: x.minute)\n",
        "\n",
        "# Write DataFrame to a directory \"output_parquet\" partitioned by retrieval_time\n",
        "df_thai.to_parquet(\n",
        "    \"df_thai\",\n",
        "    partition_cols=[\"acq_year\", \"acq_month\", \"acq_day\", \"acq_hour\", \"acq_minute\"],\n",
        "    engine=\"pyarrow\",\n",
        "    index=False\n",
        ")"
      ]
    }
  ],
  "metadata": {
    "colab": {
      "provenance": []
    },
    "kernelspec": {
      "display_name": "Python 3",
      "name": "python3"
    },
    "language_info": {
      "codemirror_mode": {
        "name": "ipython",
        "version": 3
      },
      "file_extension": ".py",
      "mimetype": "text/x-python",
      "name": "python",
      "nbconvert_exporter": "python",
      "pygments_lexer": "ipython3",
      "version": "3.12.10"
    }
  },
  "nbformat": 4,
  "nbformat_minor": 0
}
